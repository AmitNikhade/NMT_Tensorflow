{
  "nbformat": 4,
  "nbformat_minor": 0,
  "metadata": {
    "colab": {
      "name": "NMT_Tensorflow_ex.ipynb",
      "provenance": [],
      "collapsed_sections": []
    },
    "kernelspec": {
      "display_name": "Python 3",
      "name": "python3"
    },
    "accelerator": "GPU"
  },
  "cells": [
    {
      "cell_type": "code",
      "metadata": {
        "id": "Ygr5srsGnWKz"
      },
      "source": [
        "import tensorflow as tf\r\n",
        "import numpy as np\r\n",
        "import pandas as pd\r\n",
        "import warnings\r\n",
        "import re\r\n",
        "from tqdm import tqdm\r\n",
        "import string\r\n",
        "from sklearn.model_selection import train_test_split\r\n",
        "import os\r\n",
        "warnings.filterwarnings('ignore')"
      ],
      "execution_count": null,
      "outputs": []
    },
    {
      "cell_type": "code",
      "metadata": {
        "colab": {
          "base_uri": "https://localhost:8080/"
        },
        "id": "_slbwkBPjBlD",
        "outputId": "cba061d2-4298-417c-f832-322dd20fcc5a"
      },
      "source": [
        "tf.test.is_gpu_available(\r\n",
        "    cuda_only=False,\r\n",
        "    min_cuda_compute_capability=None\r\n",
        ")"
      ],
      "execution_count": null,
      "outputs": [
        {
          "output_type": "execute_result",
          "data": {
            "text/plain": [
              "True"
            ]
          },
          "metadata": {
            "tags": []
          },
          "execution_count": 95
        }
      ]
    },
    {
      "cell_type": "code",
      "metadata": {
        "colab": {
          "base_uri": "https://localhost:8080/",
          "height": 195
        },
        "id": "sjt181tHBTgY",
        "outputId": "05332931-efa3-4d5b-a1cf-a22f90af4a13"
      },
      "source": [
        "PATH = \"/content/drive/MyDrive/Hindi_English_Truncated_Corpus.csv\"\r\n",
        "df = pd.read_csv(PATH)\r\n",
        "df.head()"
      ],
      "execution_count": null,
      "outputs": [
        {
          "output_type": "execute_result",
          "data": {
            "text/html": [
              "<div>\n",
              "<style scoped>\n",
              "    .dataframe tbody tr th:only-of-type {\n",
              "        vertical-align: middle;\n",
              "    }\n",
              "\n",
              "    .dataframe tbody tr th {\n",
              "        vertical-align: top;\n",
              "    }\n",
              "\n",
              "    .dataframe thead th {\n",
              "        text-align: right;\n",
              "    }\n",
              "</style>\n",
              "<table border=\"1\" class=\"dataframe\">\n",
              "  <thead>\n",
              "    <tr style=\"text-align: right;\">\n",
              "      <th></th>\n",
              "      <th>source</th>\n",
              "      <th>english_sentence</th>\n",
              "      <th>hindi_sentence</th>\n",
              "    </tr>\n",
              "  </thead>\n",
              "  <tbody>\n",
              "    <tr>\n",
              "      <th>0</th>\n",
              "      <td>ted</td>\n",
              "      <td>politicians do not have permission to do what ...</td>\n",
              "      <td>राजनीतिज्ञों के पास जो कार्य करना चाहिए, वह कर...</td>\n",
              "    </tr>\n",
              "    <tr>\n",
              "      <th>1</th>\n",
              "      <td>ted</td>\n",
              "      <td>I'd like to tell you about one such child,</td>\n",
              "      <td>मई आपको ऐसे ही एक बच्चे के बारे में बताना चाहू...</td>\n",
              "    </tr>\n",
              "    <tr>\n",
              "      <th>2</th>\n",
              "      <td>indic2012</td>\n",
              "      <td>This percentage is even greater than the perce...</td>\n",
              "      <td>यह प्रतिशत भारत में हिन्दुओं प्रतिशत से अधिक है।</td>\n",
              "    </tr>\n",
              "    <tr>\n",
              "      <th>3</th>\n",
              "      <td>ted</td>\n",
              "      <td>what we really mean is that they're bad at not...</td>\n",
              "      <td>हम ये नहीं कहना चाहते कि वो ध्यान नहीं दे पाते</td>\n",
              "    </tr>\n",
              "    <tr>\n",
              "      <th>4</th>\n",
              "      <td>indic2012</td>\n",
              "      <td>.The ending portion of these Vedas is called U...</td>\n",
              "      <td>इन्हीं वेदों का अंतिम भाग उपनिषद कहलाता है।</td>\n",
              "    </tr>\n",
              "  </tbody>\n",
              "</table>\n",
              "</div>"
            ],
            "text/plain": [
              "      source  ...                                     hindi_sentence\n",
              "0        ted  ...  राजनीतिज्ञों के पास जो कार्य करना चाहिए, वह कर...\n",
              "1        ted  ...  मई आपको ऐसे ही एक बच्चे के बारे में बताना चाहू...\n",
              "2  indic2012  ...   यह प्रतिशत भारत में हिन्दुओं प्रतिशत से अधिक है।\n",
              "3        ted  ...     हम ये नहीं कहना चाहते कि वो ध्यान नहीं दे पाते\n",
              "4  indic2012  ...        इन्हीं वेदों का अंतिम भाग उपनिषद कहलाता है।\n",
              "\n",
              "[5 rows x 3 columns]"
            ]
          },
          "metadata": {
            "tags": []
          },
          "execution_count": 96
        }
      ]
    },
    {
      "cell_type": "code",
      "metadata": {
        "id": "fw12CfJN1mkq"
      },
      "source": [
        "import unicodedata\r\n",
        "def unicode_to_ascii(s):\r\n",
        "    return ''.join(c for c in unicodedata.normalize('NFD', s)\r\n",
        "        if unicodedata.category(c) != 'Mn')\r\n"
      ],
      "execution_count": null,
      "outputs": []
    },
    {
      "cell_type": "code",
      "metadata": {
        "id": "3IIbQ_YURj4W"
      },
      "source": [
        "\r\n",
        "def preprocess_hindi(sent):\r\n",
        "   \r\n",
        "    sent = str(sent)\r\n",
        "    sent = sent.strip()\r\n",
        "    sent = re.sub(r\"([?.!,¿])\", r\" \\1 \", sent)\r\n",
        "    sent = re.sub(r'[\" \"]+', \" \", sent)\r\n",
        "    sent = re.sub(r\"[२३०८१५७९४६]\",\"\",sent)\r\n",
        "    sent = (sent.translate(str.maketrans('', '', string.punctuation))).replace('।','')\r\n",
        "    sent = ''.join([i for i in sent if not i.isdigit()])\r\n",
        "    sent = sent.rstrip().strip()\r\n",
        "    sent = '<s> ' + sent + ' <e>'\r\n",
        "    return sent\r\n",
        "\r\n",
        "def preprocess_eng(sent):\r\n",
        "\r\n",
        "    sent = str(sent)\r\n",
        "    sent = sent.lower()\r\n",
        "    sent = re.sub(\"'\", '', sent)\r\n",
        "    sent = re.sub(r\"([?.!,¿])\", r\" \\1 \", sent)\r\n",
        "    sent = re.sub(r'[\" \"]+', \" \", sent)\r\n",
        "    sent = re.sub(r\"[^a-zA-Z?.!,¿]+\", \" \", sent)\r\n",
        "    sent = sent.translate(str.maketrans('', '', string.punctuation))\r\n",
        "    sent = ''.join([i for i in sent if not i.isdigit()])\r\n",
        "    sent = sent.rstrip().strip()\r\n",
        "    sent = '<s> ' + sent + ' <e>'\r\n",
        "    return sent"
      ],
      "execution_count": null,
      "outputs": []
    },
    {
      "cell_type": "code",
      "metadata": {
        "id": "ufHAImEBYiL0"
      },
      "source": [
        "df[\"eng_sent_len\"] = df[\"english_sentence\"].apply(lambda x: len(str(x).split(' ')))\r\n",
        "df[\"hindi_sent_len\"] = df[\"hindi_sentence\"].apply(lambda x: len(str(x).split(' ')))"
      ],
      "execution_count": null,
      "outputs": []
    },
    {
      "cell_type": "code",
      "metadata": {
        "id": "AdVoHy9T4bgZ"
      },
      "source": [
        "df = df.loc[df['hindi_sent_len'] < 30].copy()"
      ],
      "execution_count": null,
      "outputs": []
    },
    {
      "cell_type": "code",
      "metadata": {
        "id": "Pka_qkOn7P0w"
      },
      "source": [
        "df['english_sentence'] = df['english_sentence'].apply(preprocess_eng)\r\n",
        "df['hindi_sentence'] = df['hindi_sentence'].apply(preprocess_hindi)"
      ],
      "execution_count": null,
      "outputs": []
    },
    {
      "cell_type": "code",
      "metadata": {
        "id": "3eIkNP4GXUU3"
      },
      "source": [
        "\r\n",
        "def tokenize(lang):\r\n",
        "  lang_tokenizer = tf.keras.preprocessing.text.Tokenizer(\r\n",
        "      filters='')\r\n",
        "  lang_tokenizer.fit_on_texts(lang)\r\n",
        "\r\n",
        "  tensor = lang_tokenizer.texts_to_sequences(lang)\r\n",
        "\r\n",
        "  tensor = tf.keras.preprocessing.sequence.pad_sequences(tensor,\r\n",
        "                                                         padding='post')\r\n",
        "\r\n",
        "  return tensor, lang_tokenizer"
      ],
      "execution_count": null,
      "outputs": []
    },
    {
      "cell_type": "code",
      "metadata": {
        "id": "jZTBoPehtvAk"
      },
      "source": [
        "hindi = df['hindi_sentence'].values.tolist()[:3500]\r\n",
        "english = df['english_sentence'].values.tolist()[:3500]\r\n",
        "hin, tok_hin = tokenize(hindi)\r\n",
        "eng, tok_eng = tokenize(english)"
      ],
      "execution_count": null,
      "outputs": []
    },
    {
      "cell_type": "code",
      "metadata": {
        "colab": {
          "base_uri": "https://localhost:8080/"
        },
        "id": "MAy5MOHD_p6S",
        "outputId": "83b8d76b-c41c-4fcf-9310-63f690f1d35b"
      },
      "source": [
        "hin.shape, eng.shape"
      ],
      "execution_count": null,
      "outputs": [
        {
          "output_type": "execute_result",
          "data": {
            "text/plain": [
              "((3500, 31), (3500, 46))"
            ]
          },
          "metadata": {
            "tags": []
          },
          "execution_count": 104
        }
      ]
    },
    {
      "cell_type": "code",
      "metadata": {
        "id": "lLp4pKJj4kB6"
      },
      "source": [
        "vocab_eng_size = len(tok_eng.word_index)+1\r\n",
        "vocab_hin_size = len(tok_hin.word_index)+1"
      ],
      "execution_count": null,
      "outputs": []
    },
    {
      "cell_type": "code",
      "metadata": {
        "id": "CbQJ3uLEuyNU"
      },
      "source": [
        "maxlen_output_hin = max(len(t) for t in hin)\r\n",
        "maxlen_input_eng = max(len(t) for t in eng)"
      ],
      "execution_count": null,
      "outputs": []
    },
    {
      "cell_type": "code",
      "metadata": {
        "id": "fAfxJApQyKA-"
      },
      "source": [
        "X_train, X_test, y_train, y_test = train_test_split(eng, hin, test_size=0.2)"
      ],
      "execution_count": null,
      "outputs": []
    },
    {
      "cell_type": "code",
      "metadata": {
        "colab": {
          "base_uri": "https://localhost:8080/"
        },
        "id": "nfaPAaXt1WIf",
        "outputId": "9f0672bd-314e-4ab7-9889-2dfa5dd5c0f2"
      },
      "source": [
        "X_train.shape, X_test.shape, y_train.shape, y_test.shape,len(X_train), len(X_test), len(y_train), len(y_test)"
      ],
      "execution_count": null,
      "outputs": [
        {
          "output_type": "execute_result",
          "data": {
            "text/plain": [
              "((2800, 46), (700, 46), (2800, 31), (700, 31), 2800, 700, 2800, 700)"
            ]
          },
          "metadata": {
            "tags": []
          },
          "execution_count": 108
        }
      ]
    },
    {
      "cell_type": "code",
      "metadata": {
        "id": "QecqQ0cl3QWC"
      },
      "source": [
        "embedding_dim = 256\r\n",
        "epochs = 20\r\n",
        "bs = 64\r\n",
        "units = 1024\r\n",
        "steps_per_epoch = len(X_train)//bs"
      ],
      "execution_count": null,
      "outputs": []
    },
    {
      "cell_type": "code",
      "metadata": {
        "id": "EV7i8NGO4d3t"
      },
      "source": [
        "class Encoder(tf.keras.Model):\r\n",
        "  def __init__(self, vocab_size, embedding_dim, enc_units, batch_sz):\r\n",
        "    super(Encoder, self).__init__()\r\n",
        "    self.batch_sz = batch_sz\r\n",
        "    self.enc_units = enc_units\r\n",
        "    self.embedding = tf.keras.layers.Embedding(vocab_size, embedding_dim)\r\n",
        "    self.gru = tf.keras.layers.GRU(self.enc_units,\r\n",
        "                                   return_sequences=True,\r\n",
        "                                   return_state=True,\r\n",
        "                                   recurrent_initializer='glorot_uniform')\r\n",
        "\r\n",
        "  def call(self, x, hidden):\r\n",
        "    x = self.embedding(x)\r\n",
        "    output, state = self.gru(x, initial_state = hidden)\r\n",
        "    return output, state\r\n",
        "\r\n",
        "  def initialize_hidden_state(self):\r\n",
        "    return tf.zeros((self.batch_sz, self.enc_units))"
      ],
      "execution_count": null,
      "outputs": []
    },
    {
      "cell_type": "code",
      "metadata": {
        "id": "wOuz6baV9Jbr"
      },
      "source": [
        "encoder = Encoder(vocab_eng_size, embedding_dim, units, bs)"
      ],
      "execution_count": null,
      "outputs": []
    },
    {
      "cell_type": "code",
      "metadata": {
        "id": "GUYB_Kkm9P2j"
      },
      "source": [
        "class BahdanauAttention(tf.keras.Model):\r\n",
        "  def __init__(self, units):\r\n",
        "    super(BahdanauAttention, self).__init__()\r\n",
        "    self.W1 = tf.keras.layers.Dense(units)\r\n",
        "    self.W2 = tf.keras.layers.Dense(units)\r\n",
        "    self.V = tf.keras.layers.Dense(1)\r\n",
        "\r\n",
        "  def call(self, query, values):\r\n",
        "    hidden_with_time_axis = tf.expand_dims(query, 1)\r\n",
        "\r\n",
        "    score = self.V(tf.nn.tanh(\r\n",
        "        self.W1(values) + self.W2(hidden_with_time_axis)))\r\n",
        "\r\n",
        "    attention_weights = tf.nn.softmax(score, axis=1)\r\n",
        "\r\n",
        "    context_vector = attention_weights * values\r\n",
        "    context_vector = tf.reduce_sum(context_vector, axis=1)\r\n",
        "\r\n",
        "    return context_vector, attention_weights"
      ],
      "execution_count": null,
      "outputs": []
    },
    {
      "cell_type": "code",
      "metadata": {
        "id": "s7T93hSN-RzU"
      },
      "source": [
        "attention_layer = BahdanauAttention(10)"
      ],
      "execution_count": null,
      "outputs": []
    },
    {
      "cell_type": "code",
      "metadata": {
        "id": "nD-Evjh--YNF"
      },
      "source": [
        "class Decoder(tf.keras.Model):\r\n",
        "  def __init__(self, vocab_size, embedding_dim, dec_units, batch_sz):\r\n",
        "    super(Decoder, self).__init__()\r\n",
        "    self.batch_sz = batch_sz\r\n",
        "    self.dec_units = dec_units\r\n",
        "    self.embedding = tf.keras.layers.Embedding(vocab_size, embedding_dim)\r\n",
        "    self.gru = tf.keras.layers.GRU(self.dec_units,\r\n",
        "                                   return_sequences=True,\r\n",
        "                                   return_state=True,\r\n",
        "                                   recurrent_initializer='glorot_uniform')\r\n",
        "    self.fc = tf.keras.layers.Dense(vocab_size)\r\n",
        "\r\n",
        "\r\n",
        "    self.attention = BahdanauAttention(self.dec_units)\r\n",
        "\r\n",
        "  def call(self, x, hidden, enc_output):\r\n",
        "\r\n",
        "    context_vector, attention_weights = self.attention(hidden, enc_output)\r\n",
        "\r\n",
        "    x = self.embedding(x)\r\n",
        "\r\n",
        "\r\n",
        "    x = tf.concat([tf.expand_dims(context_vector, 1), x], axis=-1)\r\n",
        "\r\n",
        "    output, state = self.gru(x)\r\n",
        "\r\n",
        "\r\n",
        "    output = tf.reshape(output, (-1, output.shape[2]))\r\n",
        "\r\n",
        "    x = self.fc(output)\r\n",
        "\r\n",
        "    return x, state, attention_weights"
      ],
      "execution_count": null,
      "outputs": []
    },
    {
      "cell_type": "code",
      "metadata": {
        "id": "X3r7O5RP-eWh"
      },
      "source": [
        "decoder = Decoder(vocab_hin_size, embedding_dim, units, bs)"
      ],
      "execution_count": null,
      "outputs": []
    },
    {
      "cell_type": "code",
      "metadata": {
        "id": "snbXJzij-2r1"
      },
      "source": [
        "optimizer = tf.keras.optimizers.Adam()\r\n",
        "loss_object = tf.keras.losses.SparseCategoricalCrossentropy(\r\n",
        "    from_logits=True, reduction='none')\r\n",
        "\r\n",
        "def loss_function(real, pred):\r\n",
        "  mask = tf.math.logical_not(tf.math.equal(real, 0))\r\n",
        "  loss_ = loss_object(real, pred)\r\n",
        "\r\n",
        "  mask = tf.cast(mask, dtype=loss_.dtype)\r\n",
        "  loss_ *= mask\r\n",
        "\r\n",
        "  return tf.reduce_mean(loss_)"
      ],
      "execution_count": null,
      "outputs": []
    },
    {
      "cell_type": "code",
      "metadata": {
        "id": "t5OAWDi__Akh"
      },
      "source": [
        "checkpoint_dir = './content/checkpoints'\r\n",
        "checkpoint_prefix = os.path.join(checkpoint_dir, \"ckpt\")\r\n",
        "checkpoint = tf.train.Checkpoint(optimizer=optimizer,\r\n",
        "                                 encoder=encoder,\r\n",
        "                                 decoder=decoder)"
      ],
      "execution_count": null,
      "outputs": []
    },
    {
      "cell_type": "code",
      "metadata": {
        "id": "tcHKzECO_EZJ"
      },
      "source": [
        "@tf.function\r\n",
        "def train_step(inp, targ, enc_hidden):\r\n",
        "  loss = 0\r\n",
        "\r\n",
        "  with tf.GradientTape() as tape:\r\n",
        "    enc_output, enc_hidden = encoder(inp, enc_hidden)\r\n",
        "\r\n",
        "    dec_hidden = enc_hidden\r\n",
        "\r\n",
        "    dec_input = tf.expand_dims([tok_hin.word_index['<s>']] * bs, 1)\r\n",
        "\r\n",
        "    for t in range(1, targ.shape[1]):\r\n",
        "      \r\n",
        "      predictions, dec_hidden, _ = decoder(dec_input, dec_hidden, enc_output)\r\n",
        "\r\n",
        "      loss += loss_function(targ[:, t], predictions)\r\n",
        "\r\n",
        "      dec_input = tf.expand_dims(targ[:, t], 1)\r\n",
        "\r\n",
        "  batch_loss = (loss / int(targ.shape[1]))\r\n",
        "\r\n",
        "  variables = encoder.trainable_variables + decoder.trainable_variables\r\n",
        "\r\n",
        "  gradients = tape.gradient(loss, variables)\r\n",
        "\r\n",
        "  optimizer.apply_gradients(zip(gradients, variables))\r\n",
        "\r\n",
        "  return batch_loss"
      ],
      "execution_count": null,
      "outputs": []
    },
    {
      "cell_type": "code",
      "metadata": {
        "id": "S06qpADpxIh4"
      },
      "source": [
        "BUFFER_SIZE = len(X_train)\r\n",
        "dataset = tf.data.Dataset.from_tensor_slices((X_train, y_train)).shuffle(BUFFER_SIZE)\r\n",
        "dataset = dataset.batch(bs, drop_remainder=True)"
      ],
      "execution_count": null,
      "outputs": []
    },
    {
      "cell_type": "code",
      "metadata": {
        "colab": {
          "base_uri": "https://localhost:8080/"
        },
        "id": "YPqmlAQBC48P",
        "outputId": "c19ef8d9-6ee6-492f-f834-d27365cb8ffa"
      },
      "source": [
        "\r\n",
        "for epoch in range(epochs):\r\n",
        "\r\n",
        "  enc_hidden = encoder.initialize_hidden_state()\r\n",
        "  total_loss = 0\r\n",
        "\r\n",
        "  for (batch, (inp, targ)) in enumerate(dataset.take(steps_per_epoch)):\r\n",
        "    batch_loss = train_step(inp, targ, enc_hidden)\r\n",
        "    total_loss += batch_loss\r\n",
        "\r\n",
        "    if batch % 100 == 0:\r\n",
        "        print('Epoch {} Batch {} Loss {:.4f}'.format(epoch + 1,\r\n",
        "                                                     batch,\r\n",
        "                                                     batch_loss.numpy()))\r\n",
        "\r\n",
        "  if (epoch + 1) % 2 == 0:\r\n",
        "    checkpoint.save(file_prefix = checkpoint_prefix)\r\n",
        "\r\n",
        "  print('Epoch {} Loss {:.4f}'.format(epoch + 1,\r\n",
        "                                      total_loss / steps_per_epoch))"
      ],
      "execution_count": null,
      "outputs": [
        {
          "output_type": "stream",
          "text": [
            "Epoch 1 Batch 0 Loss 3.5553\n",
            "Epoch 1 Loss 3.0902\n",
            "Epoch 2 Batch 0 Loss 3.0595\n",
            "Epoch 2 Loss 2.8063\n",
            "Epoch 3 Batch 0 Loss 2.8666\n",
            "Epoch 3 Loss 2.7363\n",
            "Epoch 4 Batch 0 Loss 2.5263\n",
            "Epoch 4 Loss 2.6617\n",
            "Epoch 5 Batch 0 Loss 2.6781\n",
            "Epoch 5 Loss 2.5771\n",
            "Epoch 6 Batch 0 Loss 2.6455\n",
            "Epoch 6 Loss 2.4946\n",
            "Epoch 7 Batch 0 Loss 2.0426\n",
            "Epoch 7 Loss 2.3910\n",
            "Epoch 8 Batch 0 Loss 2.3386\n",
            "Epoch 8 Loss 2.2945\n",
            "Epoch 9 Batch 0 Loss 2.1237\n",
            "Epoch 9 Loss 2.1762\n",
            "Epoch 10 Batch 0 Loss 2.0695\n",
            "Epoch 10 Loss 2.0803\n",
            "Epoch 11 Batch 0 Loss 1.7854\n",
            "Epoch 11 Loss 1.9735\n",
            "Epoch 12 Batch 0 Loss 1.7748\n",
            "Epoch 12 Loss 1.8625\n",
            "Epoch 13 Batch 0 Loss 1.7118\n",
            "Epoch 13 Loss 1.7564\n",
            "Epoch 14 Batch 0 Loss 1.6709\n",
            "Epoch 14 Loss 1.6509\n",
            "Epoch 15 Batch 0 Loss 1.4446\n",
            "Epoch 15 Loss 1.5446\n",
            "Epoch 16 Batch 0 Loss 1.4760\n",
            "Epoch 16 Loss 1.4302\n",
            "Epoch 17 Batch 0 Loss 1.2580\n",
            "Epoch 17 Loss 1.3170\n",
            "Epoch 18 Batch 0 Loss 0.9330\n",
            "Epoch 18 Loss 1.1992\n",
            "Epoch 19 Batch 0 Loss 0.8853\n",
            "Epoch 19 Loss 1.0847\n",
            "Epoch 20 Batch 0 Loss 0.9143\n",
            "Epoch 20 Loss 0.9758\n"
          ],
          "name": "stdout"
        }
      ]
    },
    {
      "cell_type": "code",
      "metadata": {
        "id": "YvxiebRHseOB"
      },
      "source": [
        "max_hin_len = max(len(t) for t in hin)\r\n",
        "max_eng_len = max(len(t) for t in eng)"
      ],
      "execution_count": null,
      "outputs": []
    },
    {
      "cell_type": "code",
      "metadata": {
        "id": "lGnhYBNbdjVf"
      },
      "source": [
        "def evaluate(sentence):\r\n",
        "    attention_plot = np.zeros((max_hin_len, max_eng_len))\r\n",
        "\r\n",
        "    sentence = preprocess_eng(sentence)\r\n",
        "\r\n",
        "    inputs = [tok_eng.word_index[i] for i in sentence.split(' ')]\r\n",
        "    inputs = tf.keras.preprocessing.sequence.pad_sequences([inputs],\r\n",
        "                                                           maxlen=max_eng_len,\r\n",
        "                                                           padding='post')\r\n",
        "    inputs = tf.convert_to_tensor(inputs)\r\n",
        "\r\n",
        "    result = ''\r\n",
        "\r\n",
        "    hidden = [tf.zeros((1, units))]\r\n",
        "    enc_out, enc_hidden = encoder(inputs, hidden)\r\n",
        "\r\n",
        "    dec_hidden = enc_hidden\r\n",
        "    dec_input = tf.expand_dims([tok_hin.word_index['<s>']], 0)\r\n",
        "\r\n",
        "    for t in range(max_hin_len):\r\n",
        "        predictions, dec_hidden, attention_weights = decoder(dec_input,\r\n",
        "                                                             dec_hidden,\r\n",
        "                                                             enc_out)\r\n",
        "\r\n",
        "        attention_weights = tf.reshape(attention_weights, (-1, ))\r\n",
        "        attention_plot[t] = attention_weights.numpy()\r\n",
        "\r\n",
        "        predicted_id = tf.argmax(predictions[0]).numpy()\r\n",
        "\r\n",
        "        result += tok_hin.index_word[predicted_id] + ' '\r\n",
        "\r\n",
        "        if tok_hin.index_word[predicted_id] == '<e>':\r\n",
        "            return result, sentence, attention_plot\r\n",
        "\r\n",
        "        dec_input = tf.expand_dims([predicted_id], 0)\r\n",
        "\r\n",
        "    return result, sentence, attention_plot"
      ],
      "execution_count": null,
      "outputs": []
    },
    {
      "cell_type": "code",
      "metadata": {
        "id": "ymljnVhToJrc",
        "colab": {
          "base_uri": "https://localhost:8080/"
        },
        "outputId": "1f10e7f5-9f09-47c4-c63c-a268a263c039"
      },
      "source": [
        "def translate(sentence):\r\n",
        "    result, sentence, attention_plot = evaluate(sentence)\r\n",
        "\r\n",
        "    print('Input: %s' % (sentence))\r\n",
        "    print('Predicted translation: {}'.format(result))\r\n",
        "translate('politicians do not have')"
      ],
      "execution_count": null,
      "outputs": [
        {
          "output_type": "stream",
          "text": [
            "Input: <s> politicians do not have <e>\n",
            "Predicted translation: तो आप ये कल्पना कर सकते हैं <e> \n"
          ],
          "name": "stdout"
        }
      ]
    },
    {
      "cell_type": "code",
      "metadata": {
        "id": "XKNwKYm-rrhf",
        "colab": {
          "base_uri": "https://localhost:8080/"
        },
        "outputId": "0a3d06e7-3f34-4071-f978-9df098956c85"
      },
      "source": [
        "!wget '/content/training_checkpoints'"
      ],
      "execution_count": null,
      "outputs": [
        {
          "output_type": "stream",
          "text": [
            "/content/training_checkpoints: Scheme missing.\n"
          ],
          "name": "stdout"
        }
      ]
    },
    {
      "cell_type": "code",
      "metadata": {
        "id": "87Y5nZFE4GPD"
      },
      "source": [
        ""
      ],
      "execution_count": null,
      "outputs": []
    }
  ]
}